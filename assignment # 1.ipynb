{
 "cells": [
  {
   "cell_type": "markdown",
   "id": "f9b1fccc",
   "metadata": {},
   "source": [
    "# Phyton Assingment  no : 1"
   ]
  },
  {
   "cell_type": "code",
   "execution_count": 18,
   "id": "4bf23f16",
   "metadata": {},
   "outputs": [
    {
     "name": "stdout",
     "output_type": "stream",
     "text": [
      "enter first num\n",
      "first num 100.75\n",
      "enter second num\n",
      "second num 225.85\n",
      "the sum of num1 and num2 is :  326.6\n"
     ]
    }
   ],
   "source": [
    "print(\"enter first num\")\n",
    "num1=input(\"first num \")\n",
    "print(\"enter second num\")\n",
    "num2=input(\"second num \")\n",
    "sum=float(num1)+float(num2)\n",
    "print(\"the sum of num1 and num2 is : \" , sum)"
   ]
  },
  {
   "cell_type": "code",
   "execution_count": 5,
   "id": "65a1509f",
   "metadata": {},
   "outputs": [
    {
     "name": "stdout",
     "output_type": "stream",
     "text": [
      "Today's date and time : 2021-12-29 12:20:03.586974\n"
     ]
    }
   ],
   "source": [
    "from datetime import date\n",
    "\n",
    "today = datetime.today()\n",
    "print(\"Today's date and time :\", today)"
   ]
  },
  {
   "cell_type": "code",
   "execution_count": 18,
   "id": "6d97217c",
   "metadata": {},
   "outputs": [
    {
     "name": "stdout",
     "output_type": "stream",
     "text": [
      "Twinkle, twinkle, little star, \n",
      "\tHow I wonder what you are! \n",
      "\t\tUp above the world so high, \n",
      "\t\tLike a diamond in the sky. \n",
      "Twinkle, twinkle, little star, \n",
      "\tHow I wonder what you are!\n"
     ]
    }
   ],
   "source": [
    "print(\"Twinkle, twinkle, little star, \\n\\tHow I wonder what you are! \\n\\t\\tUp above the world so high, \\n\\t\\tLike a diamond in the sky. \\nTwinkle, twinkle, little star, \\n\\tHow I wonder what you are!\")\n"
   ]
  },
  {
   "cell_type": "code",
   "execution_count": 21,
   "id": "fe6eb363",
   "metadata": {},
   "outputs": [
    {
     "name": "stdout",
     "output_type": "stream",
     "text": [
      "Python version\n",
      "3.9.7 (default, Sep 16 2021, 16:59:28) [MSC v.1916 64 bit (AMD64)]\n",
      "Version info.\n",
      "sys.version_info(major=3, minor=9, micro=7, releaselevel='final', serial=0)\n"
     ]
    }
   ],
   "source": [
    "import sys\n",
    "print(\"Python version\")\n",
    "print (sys.version)\n",
    "print(\"Version info.\")\n",
    "print (sys.version_info)"
   ]
  },
  {
   "cell_type": "code",
   "execution_count": 31,
   "id": "9b3e1729",
   "metadata": {
    "scrolled": true
   },
   "outputs": [
    {
     "name": "stdout",
     "output_type": "stream",
     "text": [
      "Enter radius of circle : 50.5\n",
      "Area of the circle is: 8011.84666481737\n"
     ]
    }
   ],
   "source": [
    "from math import pi\n",
    "r = float(input (\"Enter radius of circle : \"))\n",
    "\n",
    "print (\"Area of the circle is: \" + str(pi * r**2))"
   ]
  },
  {
   "cell_type": "code",
   "execution_count": 15,
   "id": "e17b9098",
   "metadata": {},
   "outputs": [
    {
     "name": "stdout",
     "output_type": "stream",
     "text": [
      "What is your last name?shahzib\n",
      "What is your last?khan\n",
      "This is reverse order name : bizhahs nahk\n"
     ]
    }
   ],
   "source": [
    "firstname = input(\"What is your last name?\")\n",
    "lastname = input(\"What is your last?\")\n",
    "print(\"This is reverse order name : \" + firstname[::-1] + \" \" + lastname[::-1])"
   ]
  }
 ],
 "metadata": {
  "kernelspec": {
   "display_name": "Python 3 (ipykernel)",
   "language": "python",
   "name": "python3"
  },
  "language_info": {
   "codemirror_mode": {
    "name": "ipython",
    "version": 3
   },
   "file_extension": ".py",
   "mimetype": "text/x-python",
   "name": "python",
   "nbconvert_exporter": "python",
   "pygments_lexer": "ipython3",
   "version": "3.9.7"
  }
 },
 "nbformat": 4,
 "nbformat_minor": 5
}
